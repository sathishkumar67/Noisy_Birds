{
 "cells": [
  {
   "cell_type": "code",
   "execution_count": 1,
   "metadata": {},
   "outputs": [],
   "source": [
    "from mae.encoder import *\n",
    "from mae.decoder import *\n",
    "from dataset import *\n",
    "import gin"
   ]
  },
  {
   "cell_type": "code",
   "execution_count": null,
   "metadata": {},
   "outputs": [],
   "source": [
    "gin.parse_config_file(\"config/encoder_config1.gin\")\n",
    "encoder_config = EncoderConfig()\n",
    "\n",
    "gin.parse_config_file(\"config/decoder_config1.gin\")\n",
    "decoder_config = DecoderConfig()"
   ]
  },
  {
   "cell_type": "code",
   "execution_count": 3,
   "metadata": {},
   "outputs": [
    {
     "data": {
      "text/plain": [
       "DecoderConfig(image_size=256, in_proj_dim=768, hidden_size=768, intermediate_size=1024, num_hidden_layers=12, num_attention_heads=12, num_channels=3, patch_size=16, num_special_tokens=1, norm_eps=1e-08, attention_dropout=0.0, do_loss_calculation=True, use_small_mlp=True, num_image_tokens=256, head_dim=64, patched_image_height=16, patched_image_width=16, rng_seed=42, rng_generator=<torch._C.Generator object at 0x000001EAAF6F29B0>)"
      ]
     },
     "execution_count": 3,
     "metadata": {},
     "output_type": "execute_result"
    }
   ],
   "source": [
    "decoder_config"
   ]
  },
  {
   "cell_type": "code",
   "execution_count": 4,
   "metadata": {},
   "outputs": [],
   "source": [
    "encoder = EncoderModel(encoder_config)\n",
    "decoder = DecoderModel(decoder_config)"
   ]
  },
  {
   "cell_type": "code",
   "execution_count": 5,
   "metadata": {},
   "outputs": [
    {
     "name": "stdout",
     "output_type": "stream",
     "text": [
      "The encoder has 57.52 million trainable parameters\n",
      "The decoder has 48.07 million trainable parameters\n"
     ]
    }
   ],
   "source": [
    "# find the no of parameters in encoder\n",
    "def count_parameters(model):\n",
    "    return sum(p.numel() for p in model.parameters() if p.requires_grad)/1e6\n",
    "\n",
    "print(f'The encoder has {count_parameters(encoder):.2f} million trainable parameters')\n",
    "print(f'The decoder has {count_parameters(decoder):.2f} million trainable parameters')"
   ]
  },
  {
   "cell_type": "code",
   "execution_count": 5,
   "metadata": {},
   "outputs": [
    {
     "data": {
      "text/plain": [
       "torch.Size([1, 3, 128, 128])"
      ]
     },
     "execution_count": 5,
     "metadata": {},
     "output_type": "execute_result"
    }
   ],
   "source": [
    "# img, class_name = next(iter(train_dataloader))\n",
    "# img.shape, class_name\n",
    "import torch\n",
    "import torchvision\n",
    "# read image using torch \n",
    "img = torchvision.io.read_image(\"dataset/budgie/38.jpg\")\n",
    "img = img.to(torch.float32) / 255.0\n",
    "img = img.unsqueeze(0)\n",
    "img.shape"
   ]
  },
  {
   "cell_type": "code",
   "execution_count": 6,
   "metadata": {},
   "outputs": [],
   "source": [
    "encoder_op, mask, ids_restore = encoder(img)\n",
    "op, loss, mask, ids_restore = decoder((encoder_op, mask, ids_restore), img)"
   ]
  },
  {
   "cell_type": "code",
   "execution_count": 7,
   "metadata": {},
   "outputs": [
    {
     "data": {
      "text/plain": [
       "(torch.Size([1, 3, 128, 128]),\n",
       " torch.Size([1, 256]),\n",
       " torch.Size([1, 256]),\n",
       " tensor(0.5284, grad_fn=<SqrtBackward0>))"
      ]
     },
     "execution_count": 7,
     "metadata": {},
     "output_type": "execute_result"
    }
   ],
   "source": [
    "op.shape, mask.shape, ids_restore.shape, loss"
   ]
  },
  {
   "cell_type": "code",
   "execution_count": null,
   "metadata": {},
   "outputs": [],
   "source": []
  }
 ],
 "metadata": {
  "kernelspec": {
   "display_name": "dl",
   "language": "python",
   "name": "python3"
  },
  "language_info": {
   "codemirror_mode": {
    "name": "ipython",
    "version": 3
   },
   "file_extension": ".py",
   "mimetype": "text/x-python",
   "name": "python",
   "nbconvert_exporter": "python",
   "pygments_lexer": "ipython3",
   "version": "3.9.21"
  }
 },
 "nbformat": 4,
 "nbformat_minor": 2
}
