{
 "cells": [
  {
   "cell_type": "code",
   "execution_count": 1,
   "metadata": {},
   "outputs": [],
   "source": [
    "from mae.encoder import *\n",
    "from mae.decoder import *\n",
    "from dataset import *\n",
    "import gin"
   ]
  },
  {
   "cell_type": "code",
   "execution_count": 2,
   "metadata": {},
   "outputs": [],
   "source": [
    "gin.parse_config_file(\"config/encoder_config1.gin\")\n",
    "encoder_config = EncoderConfig()\n",
    "\n",
    "gin.parse_config_file(\"config/decoder_config1.gin\")\n",
    "decoder_config = DecoderConfig()\n",
    "decoder_config.do_loss_calculation = True"
   ]
  },
  {
   "cell_type": "code",
   "execution_count": 3,
   "metadata": {},
   "outputs": [
    {
     "data": {
      "text/plain": [
       "DecoderConfig(image_size=128, in_proj_dim=256, hidden_size=256, intermediate_size=512, num_hidden_layers=4, num_attention_heads=2, num_channels=3, patch_size=8, norm_eps=1e-08, attention_dropout=0.0, do_loss_calculation=True, use_small_mlp=True, num_image_tokens=256, head_dim=128, patched_image_height=16, patched_image_width=16, rng_seed=42, rng_generator=<torch._C.Generator object at 0x000001D8CC2A7E90>)"
      ]
     },
     "execution_count": 3,
     "metadata": {},
     "output_type": "execute_result"
    }
   ],
   "source": [
    "decoder_config"
   ]
  },
  {
   "cell_type": "code",
   "execution_count": 4,
   "metadata": {},
   "outputs": [],
   "source": [
    "encoder = EncoderModel(encoder_config)\n",
    "decoder = DecoderModel(decoder_config)"
   ]
  },
  {
   "cell_type": "code",
   "execution_count": 5,
   "metadata": {},
   "outputs": [
    {
     "data": {
      "text/plain": [
       "torch.Size([1, 3, 128, 128])"
      ]
     },
     "execution_count": 5,
     "metadata": {},
     "output_type": "execute_result"
    }
   ],
   "source": [
    "# img, class_name = next(iter(train_dataloader))\n",
    "# img.shape, class_name\n",
    "import torch\n",
    "import torchvision\n",
    "# read image using torch \n",
    "img = torchvision.io.read_image(\"dataset/budgie/38.jpg\")\n",
    "img = img.to(torch.float32) / 255.0\n",
    "img = img.unsqueeze(0)\n",
    "img.shape"
   ]
  },
  {
   "cell_type": "code",
   "execution_count": 6,
   "metadata": {},
   "outputs": [],
   "source": [
    "encoder_op, mask, ids_restore = encoder(img)\n",
    "op, loss, mask, ids_restore = decoder((encoder_op, mask, ids_restore), img)"
   ]
  },
  {
   "cell_type": "code",
   "execution_count": 7,
   "metadata": {},
   "outputs": [
    {
     "data": {
      "text/plain": [
       "(torch.Size([1, 3, 128, 128]),\n",
       " torch.Size([1, 256]),\n",
       " torch.Size([1, 256]),\n",
       " tensor(0.5284, grad_fn=<SqrtBackward0>))"
      ]
     },
     "execution_count": 7,
     "metadata": {},
     "output_type": "execute_result"
    }
   ],
   "source": [
    "op.shape, mask.shape, ids_restore.shape, loss"
   ]
  },
  {
   "cell_type": "code",
   "execution_count": null,
   "metadata": {},
   "outputs": [],
   "source": []
  }
 ],
 "metadata": {
  "kernelspec": {
   "display_name": "dl",
   "language": "python",
   "name": "python3"
  },
  "language_info": {
   "codemirror_mode": {
    "name": "ipython",
    "version": 3
   },
   "file_extension": ".py",
   "mimetype": "text/x-python",
   "name": "python",
   "nbconvert_exporter": "python",
   "pygments_lexer": "ipython3",
   "version": "3.9.21"
  }
 },
 "nbformat": 4,
 "nbformat_minor": 2
}
